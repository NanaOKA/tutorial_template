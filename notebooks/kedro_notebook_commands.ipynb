{
 "cells": [
  {
   "cell_type": "code",
   "execution_count": null,
   "id": "4a085f19",
   "metadata": {},
   "outputs": [],
   "source": [
    "%reload_kedro "
   ]
  },
  {
   "cell_type": "code",
   "execution_count": null,
   "id": "1b3ca232",
   "metadata": {},
   "outputs": [],
   "source": [
    "context.catalog.list()"
   ]
  },
  {
   "cell_type": "code",
   "execution_count": null,
   "id": "de4ef964",
   "metadata": {},
   "outputs": [],
   "source": [
    "params_redshift = catalog.load('params:redshift')\n",
    "params_redshift"
   ]
  },
  {
   "cell_type": "code",
   "execution_count": null,
   "id": "2b956425",
   "metadata": {},
   "outputs": [],
   "source": [
    "companies = catalog.load('companies')\n",
    "companies"
   ]
  },
  {
   "cell_type": "code",
   "execution_count": null,
   "id": "843c3f46",
   "metadata": {},
   "outputs": [],
   "source": [
    "pipelines.items()"
   ]
  },
  {
   "cell_type": "code",
   "execution_count": null,
   "id": "d77b5b3f",
   "metadata": {},
   "outputs": [],
   "source": [
    "from kedro.config import ConfigLoader\n",
    "from kedro.framework.project import settings\n",
    "\n",
    "conf_path = str(context.project_path / settings.CONF_SOURCE)\n",
    "conf_loader = ConfigLoader(conf_source=conf_path, env=\"local\")\n",
    "conf_catalog = conf_loader[\"catalog\"]\n",
    "conf_credentials = conf_loader[\"credentials\"]"
   ]
  },
  {
   "cell_type": "code",
   "execution_count": null,
   "id": "514c6b76",
   "metadata": {},
   "outputs": [],
   "source": [
    "conf_credentials"
   ]
  },
  {
   "cell_type": "code",
   "execution_count": null,
   "id": "cfe7171e",
   "metadata": {},
   "outputs": [],
   "source": [
    "conf_catalog"
   ]
  },
  {
   "cell_type": "code",
   "execution_count": null,
   "id": "04cee45b",
   "metadata": {},
   "outputs": [],
   "source": [
    "from kedro.config import ConfigLoader, MissingConfigException\n",
    "from kedro.framework.project import settings\n",
    "\n",
    "conf_path = str(project_path / settings.CONF_SOURCE)\n",
    "conf_loader = ConfigLoader(conf_source=conf_path, env=\"local\")"
   ]
  }
 ],
 "metadata": {
  "kernelspec": {
   "display_name": "Kedro (tutorial_template)",
   "language": "python",
   "name": "kedro_tutorial_template"
  },
  "language_info": {
   "codemirror_mode": {
    "name": "ipython",
    "version": 3
   },
   "file_extension": ".py",
   "mimetype": "text/x-python",
   "name": "python",
   "nbconvert_exporter": "python",
   "pygments_lexer": "ipython3",
   "version": "3.8.16"
  }
 },
 "nbformat": 4,
 "nbformat_minor": 5
}
